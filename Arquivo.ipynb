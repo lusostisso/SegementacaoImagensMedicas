{
 "cells": [
  {
   "cell_type": "code",
   "execution_count": 1,
   "metadata": {},
   "outputs": [
    {
     "name": "stdout",
     "output_type": "stream",
     "text": [
      "LIDC-IDRI-0002\n"
     ]
    }
   ],
   "source": [
    "import os\n",
    "\n",
    "# Substitua 'C:/Caminho/Para/Seu/Diretorio' pelo caminho do diretório em sua máquina\n",
    "diretorio_local = 'ImagensRadiomica/'\n",
    "\n",
    "# Lista os arquivos no diretório\n",
    "arquivos = os.listdir(diretorio_local)\n",
    "\n",
    "# Imprime os nomes dos arquivos\n",
    "for arquivo in arquivos:\n",
    "    print(arquivo)\n",
    "\n"
   ]
  },
  {
   "cell_type": "code",
   "execution_count": 4,
   "metadata": {},
   "outputs": [
    {
     "data": {
      "text/plain": [
       "Dataset.file_meta -------------------------------\n",
       "(0002, 0000) File Meta Information Group Length  UL: 208\n",
       "(0002, 0001) File Meta Information Version       OB: b'\\x00\\x01'\n",
       "(0002, 0002) Media Storage SOP Class UID         UI: Digital X-Ray Image Storage - For Presentation\n",
       "(0002, 0003) Media Storage SOP Instance UID      UI: 1.3.6.1.4.1.14519.5.2.1.6279.6001.278396232245593731333696036781\n",
       "(0002, 0010) Transfer Syntax UID                 UI: Explicit VR Little Endian\n",
       "(0002, 0012) Implementation Class UID            UI: 1.3.6.1.4.1.22213.1.143\n",
       "(0002, 0013) Implementation Version Name         SH: '0.5'\n",
       "(0002, 0016) Source Application Entity Title     AE: 'POSDA'\n",
       "-------------------------------------------------\n",
       "(0008, 0005) Specific Character Set              CS: 'ISO_IR 100'\n",
       "(0008, 0008) Image Type                          CS: ['ORIGINAL', 'PRIMARY', '']\n",
       "(0008, 0016) SOP Class UID                       UI: Digital X-Ray Image Storage - For Presentation\n",
       "(0008, 0018) SOP Instance UID                    UI: 1.3.6.1.4.1.14519.5.2.1.6279.6001.278396232245593731333696036781\n",
       "(0008, 0020) Study Date                          DA: '20000101'\n",
       "(0008, 0021) Series Date                         DA: '20000101'\n",
       "(0008, 0022) Acquisition Date                    DA: '20000101'\n",
       "(0008, 0023) Content Date                        DA: '20000101'\n",
       "(0008, 0024) Overlay Date                        DA: '20000101'\n",
       "(0008, 0025) Curve Date                          DA: '20000101'\n",
       "(0008, 002a) Acquisition DateTime                DT: '20000101'\n",
       "(0008, 0030) Study Time                          TM: ''\n",
       "(0008, 0032) Acquisition Time                    TM: ''\n",
       "(0008, 0033) Content Time                        TM: ''\n",
       "(0008, 0050) Accession Number                    SH: ''\n",
       "(0008, 0060) Modality                            CS: 'DX'\n",
       "(0008, 0070) Manufacturer                        LO: 'GE MEDICAL SYSTEMS'\n",
       "(0008, 0090) Referring Physician's Name          PN: ''\n",
       "(0008, 1090) Manufacturer's Model Name           LO: 'Revolution XRd ADS_27.5.4'\n",
       "(0008, 1155) Referenced SOP Instance UID         UI: 1.3.6.1.4.1.14519.5.2.1.6279.6001.467075290203815402713563686639\n",
       "(0010, 0010) Patient's Name                      PN: ''\n",
       "(0010, 0020) Patient ID                          LO: 'LIDC-IDRI-0002'\n",
       "(0010, 0030) Patient's Birth Date                DA: ''\n",
       "(0010, 0040) Patient's Sex                       CS: ''\n",
       "(0010, 1010) Patient's Age                       AS: ''\n",
       "(0010, 21d0) Last Menstrual Date                 DA: '20000101'\n",
       "(0012, 0062) Patient Identity Removed            CS: 'YES'\n",
       "(0012, 0063) De-identification Method            LO: 'DCM:113100/113105/113107/113108/113109/113111'\n",
       "(0013, 0010) Private Creator                     LO: 'CTP'\n",
       "(0013, 1010) Private tag data                    LO: 'LIDC-IDRI'\n",
       "(0013, 1013) Private tag data                    LO: '62796001'\n",
       "(0018, 0015) Body Part Examined                  CS: 'CHEST'\n",
       "(0018, 0060) KVP                                 DS: '140.0'\n",
       "(0018, 1020) Software Versions                   LO: 'Ads Application Package VERSION ADS_27.5.4'\n",
       "(0018, 1110) Distance Source to Detector         DS: '1800.0'\n",
       "(0018, 1111) Distance Source to Patient          DS: '1751.0'\n",
       "(0018, 1150) Exposure Time                       IS: '5'\n",
       "(0018, 1151) X-Ray Tube Current                  IS: '200'\n",
       "(0018, 1152) Exposure                            IS: '1'\n",
       "(0018, 1160) Filter Type                         SH: 'NONE'\n",
       "(0018, 1190) Focal Spot(s)                       DS: '0.6'\n",
       "(0020, 000d) Study Instance UID                  UI: 1.3.6.1.4.1.14519.5.2.1.6279.6001.116951808801102574107980626851\n",
       "(0020, 000e) Series Instance UID                 UI: 1.3.6.1.4.1.14519.5.2.1.6279.6001.493562949900213760403901722902\n",
       "(0020, 0010) Study ID                            SH: ''\n",
       "(0020, 0011) Series Number                       IS: '3000972'\n",
       "(0020, 0013) Instance Number                     IS: '1'\n",
       "(0020, 0020) Patient Orientation                 CS: ['L', 'F']\n",
       "(0020, 0052) Frame of Reference UID              UI: 1.3.6.1.4.1.14519.5.2.1.6279.6001.290742320286378838161032436197\n",
       "(0028, 0002) Samples per Pixel                   US: 1\n",
       "(0028, 0004) Photometric Interpretation          CS: 'MONOCHROME2'\n",
       "(0028, 0010) Rows                                US: 2007\n",
       "(0028, 0011) Columns                             US: 1721\n",
       "(0028, 0100) Bits Allocated                      US: 16\n",
       "(0028, 0101) Bits Stored                         US: 14\n",
       "(0028, 0102) High Bit                            US: 13\n",
       "(0028, 0103) Pixel Representation                US: 0\n",
       "(0028, 0303) Longitudinal Temporal Information M CS: 'MODIFIED'\n",
       "(0028, 1050) Window Center                       DS: [1149, 1149, 1149]\n",
       "(0028, 1051) Window Width                        DS: [695, 521, 1043]\n",
       "(0028, 1052) Rescale Intercept                   DS: '0.0'\n",
       "(0028, 1053) Rescale Slope                       DS: '1.0'\n",
       "(0028, 2110) Lossy Image Compression             CS: '00'\n",
       "(0038, 0020) Admitting Date                      DA: '20000101'\n",
       "(0040, 0002) Scheduled Procedure Step Start Date DA: '20000101'\n",
       "(0040, 0004) Scheduled Procedure Step End Date   DA: '20000101'\n",
       "(0040, 0244) Performed Procedure Step Start Date DA: '20000101'\n",
       "(0040, 2016) Placer Order Number / Imaging Servi LO: ''\n",
       "(0040, 2017) Filler Order Number / Imaging Servi LO: ''\n",
       "(0040, a075) Verifying Observer Name             PN: 'Removed by CTP'\n",
       "(0040, a123) Person Name                         PN: 'Removed by CTP'\n",
       "(0040, a124) UID                                 UI: 1.3.6.1.4.1.14519.5.2.1.6279.6001.225148342800160481489554184440\n",
       "(0070, 0084) Content Creator's Name              PN: ''\n",
       "(0088, 0140) Storage Media File-set UID          UI: 1.3.6.1.4.1.14519.5.2.1.6279.6001.269940730530508158036915650809\n",
       "(7fe0, 0010) Pixel Data                          OW: Array of 6908094 elements"
      ]
     },
     "execution_count": 4,
     "metadata": {},
     "output_type": "execute_result"
    }
   ],
   "source": [
    "import os\n",
    "import numpy as np\n",
    "import pydicom\n",
    "ds = pydicom.read_file(\"ImagensRadiomica/LIDC-IDRI-0002/01-01-2000-NA-NA-26851/3000972.000000-NA-22902/1-1.dcm\")\n",
    "ds"
   ]
  },
  {
   "cell_type": "code",
   "execution_count": 5,
   "metadata": {},
   "outputs": [],
   "source": [
    "import lungmask"
   ]
  },
  {
   "cell_type": "code",
   "execution_count": 19,
   "metadata": {},
   "outputs": [
    {
     "name": "stdout",
     "output_type": "stream",
     "text": [
      "261\n"
     ]
    }
   ],
   "source": [
    "import SimpleITK as sitk\n",
    "\n",
    "# A file name that belongs to the series we want to read\n",
    "file_name = r'ImagensRadiomica\\LIDC-IDRI-0002\\01-01-2000-NA-NA-98329\\3000522.000000-NA-04919\\1-001.dcm'\n",
    "data_directory = r'ImagensRadiomica\\LIDC-IDRI-0002\\01-01-2000-NA-NA-98329\\3000522.000000-NA-04919'\n",
    "\n",
    "# Read the file's meta-information without reading bulk pixel data\n",
    "file_reader = sitk.ImageFileReader()\n",
    "file_reader.SetFileName(file_name)\n",
    "file_reader.ReadImageInformation()\n",
    "\n",
    "\n",
    "\n",
    "# Get the sorted file names, opens all files in the directory and reads the meta-information\n",
    "# without reading the bulk pixel data\n",
    "series_ID = file_reader.GetMetaData('0020|000e')\n",
    "sorted_file_names = sitk.ImageSeriesReader.GetGDCMSeriesFileNames(data_directory, series_ID)\n",
    "sorted_file_names = sorted_file_names[::-1]\n",
    "\n",
    "print(len(sorted_file_names))\n"
   ]
  },
  {
   "cell_type": "code",
   "execution_count": 22,
   "metadata": {},
   "outputs": [],
   "source": [
    "img = sitk.ReadImage(sorted_file_names)"
   ]
  },
  {
   "cell_type": "code",
   "execution_count": 23,
   "metadata": {},
   "outputs": [
    {
     "name": "stdout",
     "output_type": "stream",
     "text": [
      "lungmask 2023-12-11 16:56:28 No GPU found, using CPU instead\n"
     ]
    },
    {
     "name": "stderr",
     "output_type": "stream",
     "text": [
      "14it [02:37, 11.25s/it]                           "
     ]
    },
    {
     "name": "stdout",
     "output_type": "stream",
     "text": [
      "lungmask 2023-12-11 16:59:08 Postprocessing\n"
     ]
    },
    {
     "name": "stderr",
     "output_type": "stream",
     "text": [
      "\n",
      "100%|██████████| 2/2 [00:00<00:00, 128.64it/s]\n"
     ]
    }
   ],
   "source": [
    "from lungmask import LMInferer\n",
    "\n",
    "inferer = LMInferer(modelname=\"R231CovidWeb\")\n",
    "\n",
    "#podemos passar ou file_name (imagem take 198) ou img (todas as imagens do paciente)\n",
    "segmentation = inferer.apply(img)  # default model is U-net(R231)"
   ]
  },
  {
   "cell_type": "code",
   "execution_count": 24,
   "metadata": {},
   "outputs": [
    {
     "data": {
      "text/plain": [
       "<matplotlib.image.AxesImage at 0x1b0a3aeafd0>"
      ]
     },
     "execution_count": 24,
     "metadata": {},
     "output_type": "execute_result"
    },
    {
     "data": {
      "image/png": "[encoded data removed]",
      "text/plain": [
       "<Figure size 640x480 with 1 Axes>"
      ]
     },
     "metadata": {},
     "output_type": "display_data"
    }
   ],
   "source": [
    "#Print Imagem\n",
    "import matplotlib.pyplot as plt\n",
    "from matplotlib import pyplot as plt2\n",
    "\n",
    "plt.imshow(segmentation[210,:,:]) #printar de 0 até 260"
   ]
  }
 ],
 "metadata": {
  "kernelspec": {
   "display_name": "Python 3",
   "language": "python",
   "name": "python3"
  },
  "language_info": {
   "codemirror_mode": {
    "name": "ipython",
    "version": 3
   },
   "file_extension": ".py",
   "mimetype": "text/x-python",
   "name": "python",
   "nbconvert_exporter": "python",
   "pygments_lexer": "ipython3",
   "version": "3.11.4"
  }
 },
 "nbformat": 4,
 "nbformat_minor": 2
}
