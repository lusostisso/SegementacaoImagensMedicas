{
 "cells": [
  {
   "cell_type": "markdown",
   "metadata": {},
   "source": [
    "OPÇÃO 1 - USANDO PYTHON- NÃO DEU CERTO!"
   ]
  },
  {
   "cell_type": "code",
   "execution_count": null,
   "metadata": {},
   "outputs": [],
   "source": [
    "import SimpleITK as sitk\n",
    "import os\n",
    "\n",
    "def dicom_folder_to_nrrd(input_folder, output_folder):\n",
    "    # Verificar se o diretório de saída existe, se não, criá-lo\n",
    "    if not os.path.exists(output_folder):\n",
    "        os.makedirs(output_folder)\n",
    "\n",
    "    # Lista todos os arquivos no diretório de entrada\n",
    "    dicom_files = os.listdir(input_folder)\n",
    "    dicom_files = sorted(os.listdir(input_folder))\n",
    "\n",
    "    for dicom_file in dicom_files:\n",
    "        # Construir o caminho completo para o arquivo DICOM\n",
    "        dicom_path = os.path.join(input_folder, dicom_file)\n",
    "\n",
    "        # Ler a imagem DICOM usando SimpleITK\n",
    "        dicom_image = sitk.ReadImage(dicom_path)\n",
    "\n",
    "        # Converter a imagem DICOM para NRRD\n",
    "        nrrd_image = sitk.GetArrayFromImage(dicom_image)\n",
    "        nrrd_filename = dicom_file.replace('.dcm', '.nrrd')\n",
    "        nrrd_path = os.path.join(output_folder, nrrd_filename)\n",
    "\n",
    "        # Salvar a imagem NRRD\n",
    "        sitk.WriteImage(sitk.GetImageFromArray(nrrd_image), nrrd_path)\n",
    "\n",
    "        print(f\"Convertido: {dicom_file} para {nrrd_filename}\")\n",
    "\n",
    "if __name__ == \"__main__\":\n",
    "    # Substitua esses caminhos pelo diretório contendo os arquivos DICOM e pelo diretório de saída desejado\n",
    "    dicom_folder_path = r'C:\\Users\\User\\OneDrive - PUCRS - BR\\PUC - Graduacao\\Iniciação Cientifica\\RadiomicaTestandoModelo1\\ImagensRadiomica\\LIDC-IDRI-0002\\01-01-2000-NA-NA-98329\\3000522.000000-NA-04919'\n",
    "    \n",
    "    output_directory = r'ConversaoFeita'\n",
    "\n",
    "    dicom_folder_to_nrrd(dicom_folder_path, output_directory)\n",
    "\n"
   ]
  },
  {
   "cell_type": "markdown",
   "metadata": {},
   "source": [
    "OPCAO 2 - TENTANDO ENVIAR PARA O SITE"
   ]
  },
  {
   "cell_type": "code",
   "execution_count": 10,
   "metadata": {},
   "outputs": [
    {
     "ename": "InvalidArgumentException",
     "evalue": "Message: invalid argument\n  (Session info: MicrosoftEdge=120.0.2210.61)\nStacktrace:\n\tGetHandleVerifier [0x00007FF67BC53F02+58082]\n\tMicrosoft::Applications::Events::ILogConfiguration::operator* [0x00007FF67BBE54B2+224082]\n\t(No symbol) [0x00007FF67BA09BD3]\n\t(No symbol) [0x00007FF67BA4E33E]\n\t(No symbol) [0x00007FF67BA7BF1A]\n\t(No symbol) [0x00007FF67BA4D231]\n\t(No symbol) [0x00007FF67BA4D0DD]\n\t(No symbol) [0x00007FF67BA7C4B0]\n\t(No symbol) [0x00007FF67BA4D231]\n\t(No symbol) [0x00007FF67BA98A03]\n\t(No symbol) [0x00007FF67BA7BB83]\n\t(No symbol) [0x00007FF67BA4BFB4]\n\t(No symbol) [0x00007FF67BA4B405]\n\t(No symbol) [0x00007FF67BA4C7E4]\n\tMicrosoft::Applications::Events::EventProperty::to_string [0x00007FF67BDFD87A+1003402]\n\t(No symbol) [0x00007FF67BAD06A9]\n\tMicrosoft::Applications::Events::EventProperty::~EventProperty [0x00007FF67BB5A8F5+35045]\n\tMicrosoft::Applications::Events::EventProperty::~EventProperty [0x00007FF67BB52A8D+2685]\n\tMicrosoft::Applications::Events::EventProperty::to_string [0x00007FF67BDFC573+998531]\n\tMicrosoft::Applications::Events::ILogConfiguration::operator* [0x00007FF67BBEFE68+267528]\n\tMicrosoft::Applications::Events::ILogConfiguration::operator* [0x00007FF67BBEAD24+246724]\n\tMicrosoft::Applications::Events::ILogConfiguration::operator* [0x00007FF67BBEAE52+247026]\n\tMicrosoft::Applications::Events::ILogConfiguration::operator* [0x00007FF67BBDF6A1+200001]\n\tBaseThreadInitThunk [0x00007FFEE84D257D+29]\n\tRtlUserThreadStart [0x00007FFEE9C6AA58+40]\n",
     "output_type": "error",
     "traceback": [
      "\u001b[1;31m---------------------------------------------------------------------------\u001b[0m",
      "\u001b[1;31mInvalidArgumentException\u001b[0m                  Traceback (most recent call last)",
      "Cell \u001b[1;32mIn[10], line 18\u001b[0m\n\u001b[0;32m     16\u001b[0m time\u001b[38;5;241m.\u001b[39msleep(\u001b[38;5;241m5\u001b[39m)\n\u001b[0;32m     17\u001b[0m select_file_button \u001b[38;5;241m=\u001b[39m driver\u001b[38;5;241m.\u001b[39mfind_element(By\u001b[38;5;241m.\u001b[39mID, \u001b[38;5;124m'\u001b[39m\u001b[38;5;124mfile-convert-select\u001b[39m\u001b[38;5;124m'\u001b[39m)\n\u001b[1;32m---> 18\u001b[0m \u001b[43mselect_file_button\u001b[49m\u001b[38;5;241;43m.\u001b[39;49m\u001b[43mclick\u001b[49m\u001b[43m(\u001b[49m\u001b[43m)\u001b[49m\n",
      "File \u001b[1;32mc:\\Users\\User\\AppData\\Local\\Programs\\Python\\Python311\\Lib\\site-packages\\selenium\\webdriver\\remote\\webelement.py:94\u001b[0m, in \u001b[0;36mWebElement.click\u001b[1;34m(self)\u001b[0m\n\u001b[0;32m     92\u001b[0m \u001b[38;5;28;01mdef\u001b[39;00m \u001b[38;5;21mclick\u001b[39m(\u001b[38;5;28mself\u001b[39m) \u001b[38;5;241m-\u001b[39m\u001b[38;5;241m>\u001b[39m \u001b[38;5;28;01mNone\u001b[39;00m:\n\u001b[0;32m     93\u001b[0m \u001b[38;5;250m    \u001b[39m\u001b[38;5;124;03m\"\"\"Clicks the element.\"\"\"\u001b[39;00m\n\u001b[1;32m---> 94\u001b[0m     \u001b[38;5;28;43mself\u001b[39;49m\u001b[38;5;241;43m.\u001b[39;49m\u001b[43m_execute\u001b[49m\u001b[43m(\u001b[49m\u001b[43mCommand\u001b[49m\u001b[38;5;241;43m.\u001b[39;49m\u001b[43mCLICK_ELEMENT\u001b[49m\u001b[43m)\u001b[49m\n",
      "File \u001b[1;32mc:\\Users\\User\\AppData\\Local\\Programs\\Python\\Python311\\Lib\\site-packages\\selenium\\webdriver\\remote\\webelement.py:395\u001b[0m, in \u001b[0;36mWebElement._execute\u001b[1;34m(self, command, params)\u001b[0m\n\u001b[0;32m    393\u001b[0m     params \u001b[38;5;241m=\u001b[39m {}\n\u001b[0;32m    394\u001b[0m params[\u001b[38;5;124m\"\u001b[39m\u001b[38;5;124mid\u001b[39m\u001b[38;5;124m\"\u001b[39m] \u001b[38;5;241m=\u001b[39m \u001b[38;5;28mself\u001b[39m\u001b[38;5;241m.\u001b[39m_id\n\u001b[1;32m--> 395\u001b[0m \u001b[38;5;28;01mreturn\u001b[39;00m \u001b[38;5;28;43mself\u001b[39;49m\u001b[38;5;241;43m.\u001b[39;49m\u001b[43m_parent\u001b[49m\u001b[38;5;241;43m.\u001b[39;49m\u001b[43mexecute\u001b[49m\u001b[43m(\u001b[49m\u001b[43mcommand\u001b[49m\u001b[43m,\u001b[49m\u001b[43m \u001b[49m\u001b[43mparams\u001b[49m\u001b[43m)\u001b[49m\n",
      "File \u001b[1;32mc:\\Users\\User\\AppData\\Local\\Programs\\Python\\Python311\\Lib\\site-packages\\selenium\\webdriver\\remote\\webdriver.py:346\u001b[0m, in \u001b[0;36mWebDriver.execute\u001b[1;34m(self, driver_command, params)\u001b[0m\n\u001b[0;32m    344\u001b[0m response \u001b[38;5;241m=\u001b[39m \u001b[38;5;28mself\u001b[39m\u001b[38;5;241m.\u001b[39mcommand_executor\u001b[38;5;241m.\u001b[39mexecute(driver_command, params)\n\u001b[0;32m    345\u001b[0m \u001b[38;5;28;01mif\u001b[39;00m response:\n\u001b[1;32m--> 346\u001b[0m     \u001b[38;5;28;43mself\u001b[39;49m\u001b[38;5;241;43m.\u001b[39;49m\u001b[43merror_handler\u001b[49m\u001b[38;5;241;43m.\u001b[39;49m\u001b[43mcheck_response\u001b[49m\u001b[43m(\u001b[49m\u001b[43mresponse\u001b[49m\u001b[43m)\u001b[49m\n\u001b[0;32m    347\u001b[0m     response[\u001b[38;5;124m\"\u001b[39m\u001b[38;5;124mvalue\u001b[39m\u001b[38;5;124m\"\u001b[39m] \u001b[38;5;241m=\u001b[39m \u001b[38;5;28mself\u001b[39m\u001b[38;5;241m.\u001b[39m_unwrap_value(response\u001b[38;5;241m.\u001b[39mget(\u001b[38;5;124m\"\u001b[39m\u001b[38;5;124mvalue\u001b[39m\u001b[38;5;124m\"\u001b[39m, \u001b[38;5;28;01mNone\u001b[39;00m))\n\u001b[0;32m    348\u001b[0m     \u001b[38;5;28;01mreturn\u001b[39;00m response\n",
      "File \u001b[1;32mc:\\Users\\User\\AppData\\Local\\Programs\\Python\\Python311\\Lib\\site-packages\\selenium\\webdriver\\remote\\errorhandler.py:245\u001b[0m, in \u001b[0;36mErrorHandler.check_response\u001b[1;34m(self, response)\u001b[0m\n\u001b[0;32m    243\u001b[0m         alert_text \u001b[38;5;241m=\u001b[39m value[\u001b[38;5;124m\"\u001b[39m\u001b[38;5;124malert\u001b[39m\u001b[38;5;124m\"\u001b[39m]\u001b[38;5;241m.\u001b[39mget(\u001b[38;5;124m\"\u001b[39m\u001b[38;5;124mtext\u001b[39m\u001b[38;5;124m\"\u001b[39m)\n\u001b[0;32m    244\u001b[0m     \u001b[38;5;28;01mraise\u001b[39;00m exception_class(message, screen, stacktrace, alert_text)  \u001b[38;5;66;03m# type: ignore[call-arg]  # mypy is not smart enough here\u001b[39;00m\n\u001b[1;32m--> 245\u001b[0m \u001b[38;5;28;01mraise\u001b[39;00m exception_class(message, screen, stacktrace)\n",
      "\u001b[1;31mInvalidArgumentException\u001b[0m: Message: invalid argument\n  (Session info: MicrosoftEdge=120.0.2210.61)\nStacktrace:\n\tGetHandleVerifier [0x00007FF67BC53F02+58082]\n\tMicrosoft::Applications::Events::ILogConfiguration::operator* [0x00007FF67BBE54B2+224082]\n\t(No symbol) [0x00007FF67BA09BD3]\n\t(No symbol) [0x00007FF67BA4E33E]\n\t(No symbol) [0x00007FF67BA7BF1A]\n\t(No symbol) [0x00007FF67BA4D231]\n\t(No symbol) [0x00007FF67BA4D0DD]\n\t(No symbol) [0x00007FF67BA7C4B0]\n\t(No symbol) [0x00007FF67BA4D231]\n\t(No symbol) [0x00007FF67BA98A03]\n\t(No symbol) [0x00007FF67BA7BB83]\n\t(No symbol) [0x00007FF67BA4BFB4]\n\t(No symbol) [0x00007FF67BA4B405]\n\t(No symbol) [0x00007FF67BA4C7E4]\n\tMicrosoft::Applications::Events::EventProperty::to_string [0x00007FF67BDFD87A+1003402]\n\t(No symbol) [0x00007FF67BAD06A9]\n\tMicrosoft::Applications::Events::EventProperty::~EventProperty [0x00007FF67BB5A8F5+35045]\n\tMicrosoft::Applications::Events::EventProperty::~EventProperty [0x00007FF67BB52A8D+2685]\n\tMicrosoft::Applications::Events::EventProperty::to_string [0x00007FF67BDFC573+998531]\n\tMicrosoft::Applications::Events::ILogConfiguration::operator* [0x00007FF67BBEFE68+267528]\n\tMicrosoft::Applications::Events::ILogConfiguration::operator* [0x00007FF67BBEAD24+246724]\n\tMicrosoft::Applications::Events::ILogConfiguration::operator* [0x00007FF67BBEAE52+247026]\n\tMicrosoft::Applications::Events::ILogConfiguration::operator* [0x00007FF67BBDF6A1+200001]\n\tBaseThreadInitThunk [0x00007FFEE84D257D+29]\n\tRtlUserThreadStart [0x00007FFEE9C6AA58+40]\n"
     ]
    }
   ],
   "source": [
    "import time\n",
    "from selenium import webdriver\n",
    "from selenium.webdriver.common.by import By\n",
    "import json\n",
    "import re\n",
    "\n",
    "options = webdriver.EdgeOptions()\n",
    "driver = webdriver.Edge(options=options)\n",
    "\n",
    "driver.get('http://studierfenster.icg.tugraz.at/')\n",
    "\n",
    "time.sleep(2)\n",
    "\n",
    "#entrando na parte de upload de arquivos\n",
    "div_element = driver.find_element(By.XPATH, '//a[@class=\"btn btn-inverse btn-large\" and @data-toggle=\"modal\" and @href=\"#convert\" and @onclick=\"resetConversionView()\"]')\n",
    "div_element.click()\n",
    "\n",
    "\n",
    "time.sleep(2)\n",
    "\n",
    "#abrindo o gerenciador de arquivos\n",
    "\n",
    "\n",
    "\n",
    "/*\n",
    "*/"
   ]
  }
 ],
 "metadata": {
  "kernelspec": {
   "display_name": "Python 3",
   "language": "python",
   "name": "python3"
  },
  "language_info": {
   "codemirror_mode": {
    "name": "ipython",
    "version": 3
   },
   "file_extension": ".py",
   "mimetype": "text/x-python",
   "name": "python",
   "nbconvert_exporter": "python",
   "pygments_lexer": "ipython3",
   "version": "3.11.4"
  }
 },
 "nbformat": 4,
 "nbformat_minor": 2
}
